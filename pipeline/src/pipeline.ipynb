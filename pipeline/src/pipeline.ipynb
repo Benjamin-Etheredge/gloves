{
 "cells": [
  {
   "cell_type": "code",
   "execution_count": null,
   "id": "phantom-highway",
   "metadata": {},
   "outputs": [],
   "source": [
    "!pip install --user python-dotenv boto3"
   ]
  },
  {
   "cell_type": "code",
   "execution_count": null,
   "id": "conditional-thumbnail",
   "metadata": {},
   "outputs": [],
   "source": [
    "from dotenv import load_dotenv\n",
    "load_dotenv(\"../../.env\")\n",
    "import os\n",
    "#print(os.getenv('MLFLOW_TRACKING_URI'))\n",
    "\n",
    "#print(os.getenv('AWS_ACCESS_KEY_ID'))\n",
    "#print(os.getenv('AWS_SECRET_ACCESS_KEY'))"
   ]
  },
  {
   "cell_type": "code",
   "execution_count": null,
   "id": "judicial-render",
   "metadata": {
    "scrolled": false
   },
   "outputs": [],
   "source": [
    "import pipeline\n",
    "import kfp\n",
    "client = kfp.Client(host='pipelines-api.kubeflow.svc.cluster.local:8888')"
   ]
  },
  {
   "cell_type": "code",
   "execution_count": null,
   "id": "coastal-leisure",
   "metadata": {
    "scrolled": false
   },
   "outputs": [],
   "source": [
    "#client.create_run_from_pipeline_func(\n",
    "    #pipeline.my_pipeline, arguments={'data_url': \"http://192.168.1.133:8000/images.tar.gz\"})"
   ]
  },
  {
   "cell_type": "code",
   "execution_count": null,
   "id": "middle-kentucky",
   "metadata": {
    "scrolled": false
   },
   "outputs": [],
   "source": [
    "import time\n",
    "kfp.compiler.Compiler().compile(pipeline_func=pipeline.my_pipeline, package_path=\"gloves_pipeline.tar.gz\")\n",
    "client.upload_pipeline_version(\"gloves_pipeline.tar.gz\",\n",
    "                      pipeline_name='gloves',\n",
    "                      pipeline_version_name=f\"gloves-{time.time()}\")                 "
   ]
  },
  {
   "cell_type": "code",
   "execution_count": null,
   "id": "korean-prevention",
   "metadata": {},
   "outputs": [],
   "source": []
  },
  {
   "cell_type": "code",
   "execution_count": null,
   "id": "tired-hospital",
   "metadata": {},
   "outputs": [],
   "source": [
    "'''import boto3\n",
    "import botocore\n",
    "from botocore.client import Config\n",
    "import os\n",
    "s3 = boto3.resource('s3',\n",
    "                    endpoint_url='https://minio.etheredge.co',\n",
    "                    aws_access_key_id=os.getenv('AWS_ACCESS_KEY_ID'),\n",
    "                    aws_secret_access_key=os.getenv('AWS_SECRET_ACCESS_KEY'),\n",
    "                    config=Config(signature_version='s3v4'),\n",
    "                    region_name='us-east-1')\n",
    "\n",
    "try:\n",
    "    s3.Object('gloves', 'clean/Abyssinian_100.jpg').load()\n",
    "except botocore.exceptions.ClientError as e:\n",
    "    if e.response['Error']['Code'] == \"404\":\n",
    "        # The object does not exist.\n",
    "        print('failed')\n",
    "    else:\n",
    "        # Something else has gone wrong.\n",
    "        raise'''"
   ]
  },
  {
   "cell_type": "code",
   "execution_count": null,
   "id": "spiritual-price",
   "metadata": {},
   "outputs": [],
   "source": [
    "'''for item in s3.Bucket('gloves-data').objects.all():\n",
    "    print(item)'''"
   ]
  },
  {
   "cell_type": "code",
   "execution_count": null,
   "id": "looking-grocery",
   "metadata": {
    "scrolled": true
   },
   "outputs": [],
   "source": [
    "'''s3.Bucket('gloves').download_file('newfoundland_118.jpg', '/clean')'''"
   ]
  },
  {
   "cell_type": "code",
   "execution_count": null,
   "id": "worse-salvation",
   "metadata": {},
   "outputs": [],
   "source": []
  }
 ],
 "metadata": {
  "kernelspec": {
   "display_name": "Python 3",
   "language": "python",
   "name": "python3"
  },
  "language_info": {
   "codemirror_mode": {
    "name": "ipython",
    "version": 3
   },
   "file_extension": ".py",
   "mimetype": "text/x-python",
   "name": "python",
   "nbconvert_exporter": "python",
   "pygments_lexer": "ipython3",
   "version": "3.7.9"
  }
 },
 "nbformat": 4,
 "nbformat_minor": 5
}